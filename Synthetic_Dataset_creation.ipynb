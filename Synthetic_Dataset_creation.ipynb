{
  "nbformat": 4,
  "nbformat_minor": 0,
  "metadata": {
    "colab": {
      "provenance": []
    },
    "kernelspec": {
      "name": "python3",
      "display_name": "Python 3"
    },
    "language_info": {
      "name": "python"
    }
  },
  "cells": [
    {
      "cell_type": "markdown",
      "source": [
        "\n",
        "# Data Dictionary\n",
        "\n",
        "| Column Name           | Data Type | Description |\n",
        "|-----------------------|-----------|-------------|\n",
        "| **Patient_ID**        | `string`  | Unique identifier for each patient. Format: `PID1000`, `PID1001`, etc. Helps uniquely identify records. |\n",
        "| **Age**               | `int`     | Age of the patient (in years), randomly generated using a **normal distribution** centered around 50, clipped between 18 and 90 to simulate adult patients. |\n",
        "| **Gender**            | `string`  | Biological sex of the patient. Randomly chosen as `'Male'` or `'Female'`. |\n",
        "| **Smoking_Status**    | `string`  | Indicates if the patient is a smoker. Randomly chosen from `'Yes'` or `'No'`, with a 30% chance of being `'Yes'`. |\n",
        "| **Alcohol_Use**       | `string`  | Indicates if the patient consumes alcohol. Randomly chosen as `'Yes'` or `'No'`, with a 40% chance of being `'Yes'`. |\n",
        "| **Family_History**    | `string`  | Whether there's a family history of cancer. Chosen randomly from `'Yes'` (20% chance) or `'No'` (80%). Important as a risk factor. |\n",
        "| **Blood_Marker_1**    | `float`   | A simulated **biomarker level** relevant to cancer (e.g. PSA, CA-125, etc.). Values range mostly between 0–10, with higher levels (>7) indicating risk. |\n",
        "| **Blood_Marker_2**    | `float`   | Another simulated **biomarker**, e.g. white blood cell count or other lab value. Mostly in the 50–150 range. Values >130 considered high risk. |\n",
        "| **Symptom_Score**     | `int`     | A subjective score (0–10) based on symptoms like fatigue, pain, weight loss, etc. Higher score may suggest more severe or noticeable symptoms. |\n",
        "| **Cancer_Diagnosis**  | `int`     | **Target label**: `1` = cancer present, `0` = no cancer. Determined based on biomarker thresholds and slight randomness to simulate false positives/negatives. |\n",
        "\n"
      ],
      "metadata": {
        "id": "GiVc-Ao1gmLl"
      }
    },
    {
      "cell_type": "code",
      "execution_count": 4,
      "metadata": {
        "colab": {
          "base_uri": "https://localhost:8080/"
        },
        "id": "E6q40vbabyoK",
        "outputId": "3b04dc2b-32a1-4dc9-c940-5752bde3edc8"
      },
      "outputs": [
        {
          "output_type": "stream",
          "name": "stdout",
          "text": [
            "  Patient_ID  Age  Gender Smoking_Status Alcohol_Use Family_History  \\\n",
            "0    PID1000   57    Male             No         Yes             No   \n",
            "1    PID1001   47  Female            Yes          No            Yes   \n",
            "2    PID1002   59    Male            Yes          No            Yes   \n",
            "3    PID1003   72  Female            Yes         Yes             No   \n",
            "4    PID1004   46    Male             No          No             No   \n",
            "\n",
            "   Blood_Marker_1  Blood_Marker_2  Symptom_Score  Cancer_Diagnosis  \n",
            "0            5.93           155.1              3                 0  \n",
            "1            3.90            93.9              3                 1  \n",
            "2            5.63           114.6              5                 0  \n",
            "3            3.23            87.0              5                 0  \n",
            "4            5.36            58.2              6                 0  \n",
            "Synthetic dataset saved to AI_Alula_CleanedDataset.xlsx\n"
          ]
        }
      ],
      "source": [
        "import pandas as pd\n",
        "import numpy as np\n",
        "import random\n",
        "\n",
        "# Set random seed for reproducibility\n",
        "np.random.seed(42)\n",
        "random.seed(42)\n",
        "\n",
        "# Number of synthetic patients\n",
        "num_records = 1000\n",
        "\n",
        "# Generate Patient IDs\n",
        "patient_ids = [f\"PID{1000+i}\" for i in range(num_records)]\n",
        "\n",
        "# Generate Ages (normal distribution, clipped)\n",
        "ages = np.clip(np.random.normal(loc=50, scale=15, size=num_records), 18, 90).astype(int)\n",
        "\n",
        "# Generate Gender (M/F)\n",
        "genders = np.random.choice(['Male', 'Female'], size=num_records)\n",
        "\n",
        "# Generate Smoking Status (Yes/No)\n",
        "smoking_status = np.random.choice(['Yes', 'No'], size=num_records, p=[0.3, 0.7])\n",
        "\n",
        "# Generate Alcohol Use (Yes/No)\n",
        "alcohol_use = np.random.choice(['Yes', 'No'], size=num_records, p=[0.4, 0.6])\n",
        "\n",
        "# Family History of Cancer (Yes/No)\n",
        "family_history = np.random.choice(['Yes', 'No'], size=num_records, p=[0.2, 0.8])\n",
        "\n",
        "# Blood Marker 1 (biomarker levels: normal range 0-10, cancerous >7)\n",
        "marker1 = np.round(np.random.normal(loc=5, scale=2, size=num_records), 2)\n",
        "\n",
        "# Blood Marker 2 (normal 50-150, cancerous >130)\n",
        "marker2 = np.round(np.random.normal(loc=100, scale=20, size=num_records), 1)\n",
        "\n",
        "# Symptom Score (0-10)\n",
        "symptom_score = np.random.randint(0, 11, size=num_records)\n",
        "\n",
        "# Target: Cancer Diagnosis (0 = No, 1 = Yes)\n",
        "# We base it on a simple rule: marker1 > 7 and marker2 > 130 → more likely to have cancer\n",
        "diagnosis = []\n",
        "for i in range(num_records):\n",
        "    if marker1[i] > 7 and marker2[i] > 130:\n",
        "        diagnosis.append(1 if random.random() > 0.2 else 0)  # 80% chance of having cancer\n",
        "    else:\n",
        "        diagnosis.append(0 if random.random() > 0.2 else 1)  # 20% false positive rate\n",
        "\n",
        "# Create DataFrame\n",
        "df = pd.DataFrame({\n",
        "    'Patient_ID': patient_ids,\n",
        "    'Age': ages,\n",
        "    'Gender': genders,\n",
        "    'Smoking_Status': smoking_status,\n",
        "    'Alcohol_Use': alcohol_use,\n",
        "    'Family_History': family_history,\n",
        "    'Blood_Marker_1': marker1,\n",
        "    'Blood_Marker_2': marker2,\n",
        "    'Symptom_Score': symptom_score,\n",
        "    'Cancer_Diagnosis': diagnosis\n",
        "})\n",
        "\n",
        "# Preview the data\n",
        "print(df.head())\n",
        "\n",
        "# Save to Excel\n",
        "df.to_excel(\"AI_Alula_CleanedDataset.xlsx\", index=False)\n",
        "print(\"Synthetic dataset saved to AI_Alula_CleanedDataset.xlsx\")"
      ]
    },
    {
      "cell_type": "code",
      "source": [],
      "metadata": {
        "id": "mW0B8-EPcFN3"
      },
      "execution_count": null,
      "outputs": []
    }
  ]
}